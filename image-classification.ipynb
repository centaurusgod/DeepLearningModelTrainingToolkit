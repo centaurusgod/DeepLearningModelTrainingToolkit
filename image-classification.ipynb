{
 "cells": [
  {
   "cell_type": "code",
   "execution_count": 1,
   "metadata": {
    "execution": {
     "iopub.execute_input": "2023-11-27T03:51:39.532656Z",
     "iopub.status.busy": "2023-11-27T03:51:39.532346Z",
     "iopub.status.idle": "2023-11-27T03:51:52.776309Z",
     "shell.execute_reply": "2023-11-27T03:51:52.775510Z",
     "shell.execute_reply.started": "2023-11-27T03:51:39.532628Z"
    },
    "id": "67dJQBVJHoH5"
   },
   "outputs": [],
   "source": [
    "import tensorflow as tf\n",
    "from tensorflow.keras.models import Sequential\n",
    "from tensorflow.keras.layers import Conv2D, MaxPooling2D, Dense, Flatten, BatchNormalization, Dropout\n",
    "from tensorflow.keras.callbacks import EarlyStopping\n",
    "from tensorflow.keras.preprocessing.image import ImageDataGenerator\n",
    "import os"
   ]
  },
  {
   "cell_type": "code",
   "execution_count": 2,
   "metadata": {},
   "outputs": [],
   "source": [
    "# Avoid OOM errors by setting GPU Memory Consumption Growth\n",
    "gpus = tf.config.experimental.list_physical_devices('GPU')\n",
    "for gpu in gpus: \n",
    "    tf.config.experimental.set_memory_growth(gpu, True)"
   ]
  },
  {
   "cell_type": "code",
   "execution_count": 3,
   "metadata": {},
   "outputs": [
    {
     "data": {
      "text/plain": [
       "[]"
      ]
     },
     "execution_count": 3,
     "metadata": {},
     "output_type": "execute_result"
    }
   ],
   "source": [
    "tf.config.experimental.list_physical_devices('GPU')"
   ]
  },
  {
   "cell_type": "markdown",
   "metadata": {
    "id": "ptayKddOUeXW"
   },
   "source": [
    "# **2.Preprocess data**"
   ]
  },
  {
   "cell_type": "code",
   "execution_count": null,
   "metadata": {},
   "outputs": [],
   "source": [
    "# # Set the path to the data directory\n",
    "# #Code without data augmentation\n",
    "# data_dir = 'data'\n",
    "\n",
    "# # Define the data generators\n",
    "# train_datagen = ImageDataGenerator(\n",
    "#     rescale=1./255,          # Normalize pixel values to be between 0 and 1\n",
    "# )\n",
    "# # validation_split=0.2\n",
    "# val_datagen = ImageDataGenerator(rescale=1./255)\n",
    "# test_datagen = ImageDataGenerator(rescale=1./255)\n",
    "\n",
    "# # Specify the batch size and image size\n",
    "# batch_size = 32\n",
    "# img_size = (224, 224)\n",
    "\n",
    "# # Create the data generators\n",
    "# train_data = train_datagen.flow_from_directory(\n",
    "#     os.path.join(data_dir, 'train'),\n",
    "#     target_size=img_size,\n",
    "#     batch_size=batch_size,\n",
    "#     class_mode='categorical'\n",
    "# )\n",
    "\n",
    "# val_data = val_datagen.flow_from_directory(\n",
    "#     os.path.join(data_dir, 'val'),\n",
    "#     target_size=img_size,\n",
    "#     batch_size=batch_size,\n",
    "#     class_mode='categorical'\n",
    "# )\n",
    "\n",
    "# test_data = test_datagen.flow_from_directory(\n",
    "#     os.path.join(data_dir, 'test'),\n",
    "#     target_size=img_size,\n",
    "#     batch_size=batch_size,\n",
    "#     class_mode='categorical'\n",
    "# )"
   ]
  },
  {
   "cell_type": "code",
   "execution_count": 4,
   "metadata": {},
   "outputs": [
    {
     "name": "stdout",
     "output_type": "stream",
     "text": [
      "Found 6862 images belonging to 38 classes.\n",
      "Found 823 images belonging to 38 classes.\n",
      "Found 34 images belonging to 38 classes.\n"
     ]
    }
   ],
   "source": [
    "# Set the path to the data directory\n",
    "#Code with data augmentation\n",
    "data_dir = 'data'\n",
    "\n",
    "# Define the data generators\n",
    "train_datagen = ImageDataGenerator(\n",
    "    rescale=1./255,          # Normalize pixel values to be between 0 and 1\n",
    "    shear_range=0.2,         # Shear transformations\n",
    "    zoom_range=0.2,          # Randomly zoom into images\n",
    "    horizontal_flip=True,    # Randomly flip images horizontally\n",
    "    rotation_range=20,       # Randomly rotate images\n",
    "    width_shift_range=0.2,   # Randomly shift images horizontally\n",
    "    height_shift_range=0.2,  # Randomly shift images vertically\n",
    "    fill_mode='nearest'    # Strategy for filling in newly created pixels\n",
    "        # Percentage of training data to use for validation\n",
    ")\n",
    "\n",
    "\n",
    "# train_datagen = ImageDataGenerator(\n",
    "#     rescale=1./255,          # Normalize pixel values to be between 0 and 1\n",
    "#     shear_range=0.2,         # Shear transformations\n",
    "#     zoom_range=[0.8, 1.2],   # Randomly zoom in or out\n",
    "#     horizontal_flip=True,    # Randomly flip images horizontally\n",
    "#     rotation_range=20,       # Randomly rotate images\n",
    "#     width_shift_range=0.2,   # Randomly shift images horizontally\n",
    "#     height_shift_range=0.2,  # Randomly shift images vertically\n",
    "#     fill_mode='nearest',    # Strategy for filling in newly created pixels\n",
    "#     brightness_range=[0.5, 1.5],  # Adjust brightness\n",
    "#     channel_shift_range=20.0,  # Randomly shift channels\n",
    "#     vertical_flip=True,      # Randomly flip images vertically\n",
    "#     featurewise_center=False,  # Set input mean to 0 over the dataset\n",
    "#     featurewise_std_normalization=False,  # Divide inputs by std of the dataset\n",
    "#     zca_whitening=False,     # Apply ZCA whitening\n",
    "#     preprocessing_function=None,  # Custom preprocessing function\n",
    "#     data_format='channels_last',  # Image data format\n",
    "#     validation_split=0.2    # Percentage of training data to use for validation\n",
    "# )\n",
    "# validation_split=0.2\n",
    "val_datagen = ImageDataGenerator(rescale=1./255)\n",
    "test_datagen = ImageDataGenerator(rescale=1./255)\n",
    "\n",
    "# Specify the batch size and image size\n",
    "batch_size = 32\n",
    "img_size = (224, 224)\n",
    "\n",
    "# Create the data generators\n",
    "train_data = train_datagen.flow_from_directory(\n",
    "    os.path.join(data_dir, 'train'),\n",
    "    target_size=img_size,\n",
    "    batch_size=batch_size,\n",
    "    class_mode='categorical'\n",
    ")\n",
    "\n",
    "val_data = val_datagen.flow_from_directory(\n",
    "    os.path.join(data_dir, 'val'),\n",
    "    target_size=img_size,\n",
    "    batch_size=batch_size,\n",
    "    class_mode='categorical'\n",
    ")\n",
    "\n",
    "test_data = test_datagen.flow_from_directory(\n",
    "    os.path.join(data_dir, 'test'),\n",
    "    target_size=img_size,\n",
    "    batch_size=batch_size,\n",
    "    class_mode='categorical'\n",
    ")"
   ]
  },
  {
   "cell_type": "code",
   "execution_count": 5,
   "metadata": {},
   "outputs": [
    {
     "name": "stdout",
     "output_type": "stream",
     "text": [
      "Class mapping for training data:\n"
     ]
    },
    {
     "data": {
      "text/plain": [
       "['Abbott’s Babbler Malacocincla abbotti',\n",
       " 'Black Bittern (Dupetor flavicollis)',\n",
       " 'Blue-eared Kingfisher Alcedo meninting',\n",
       " 'Blue-naped Pitta Pitta nipalensis',\n",
       " 'Broad-billed Warbler Tickellia hodgsoni',\n",
       " 'Cheer Pheasant (Catreus wallichii)',\n",
       " 'Chestnut Munia Lonchura atricapilla',\n",
       " 'Cinereous Vulture Aegypius monachus',\n",
       " 'Golden Babbler Stachyris chrysaea',\n",
       " 'Gould’s Shortwing Brachypteryx stellata',\n",
       " 'Great Bittern Botaurus stellaris',\n",
       " 'Great Hornbill (Buceros bicornis)',\n",
       " 'Great Slaty Woodpecker Mulleripicus pulverulentus',\n",
       " 'Ibisbill Ibidorhyncha struthersii',\n",
       " 'Indian Courser Cursorius coromandelicus',\n",
       " 'Indian Grassbird - Graminicola bengalensis',\n",
       " 'Indian Nightjar Caprimulgus asiaticus',\n",
       " 'Knob-billed Duck Sarkidiornis melanotos',\n",
       " 'Northern Pintail Anas acuta',\n",
       " 'Painted Stork Mycteria leucocephala',\n",
       " 'Purple Cochoa Cochoa purpurea',\n",
       " 'Red-headed Trogon Harpactes erythrocephalus',\n",
       " 'Red-headed Vulture Sarcogyps calvus',\n",
       " 'Red-necked Falcon Falco chicquera',\n",
       " 'Ruby-cheeked Sunbird Anthreptes singalensis',\n",
       " 'Rusty-fronted Barwing Actinodura egertoni',\n",
       " 'Saker Falcon Falco cherrug',\n",
       " 'Silver-eared Mesia Leiothrix argentauris',\n",
       " 'Slaty-legged Crake Rallina eurizonoides',\n",
       " 'Spot-bellied Eagle Owl Bubo nipalensis',\n",
       " 'Sultan Tit Melanochlora sultanea',\n",
       " 'Swamp Francolin Francolinus gularis',\n",
       " 'Tawny-bellied Babbler Dumetia hyperythra',\n",
       " 'Thick-billed Green Pigeon Treron curvirostra',\n",
       " 'White-throated Bulbul Alophoixus flaveolus',\n",
       " 'White-throated Bushchat Saxicola insignis',\n",
       " 'Yellow-rumped Honeyguide - Indicator xanthonotus',\n",
       " 'Yellow-vented Warbler Phylloscopus cantator']"
      ]
     },
     "execution_count": 5,
     "metadata": {},
     "output_type": "execute_result"
    }
   ],
   "source": [
    "class_labels = []\n",
    "\n",
    "print(\"Class mapping for training data:\")\n",
    "for class_name, class_index in sorted(train_data.class_indices.items(), key=lambda x: x[1]):\n",
    "    class_labels.append(class_name)\n",
    "    \n",
    "output_neurons=len(class_labels) \n",
    "class_labels\n",
    "    "
   ]
  },
  {
   "cell_type": "markdown",
   "metadata": {
    "id": "Dp3ywDp3an8y"
   },
   "source": [
    "# **3. Deep Model**"
   ]
  },
  {
   "cell_type": "markdown",
   "metadata": {
    "id": "EdKdFYh2at1n"
   },
   "source": [
    "**3.1 Build Deep Learning Model**"
   ]
  },
  {
   "cell_type": "code",
   "execution_count": null,
   "metadata": {},
   "outputs": [],
   "source": [
    "##Our modle\n",
    "from tensorflow.keras.models import Sequential\n",
    "from tensorflow.keras.layers import Conv2D, MaxPooling2D, Dense, Flatten\n",
    "from tensorflow.keras.callbacks import EarlyStopping\n",
    "\n",
    "model = Sequential()\n",
    "\n",
    "model.add(Conv2D(32, (3, 3), 1, activation='relu', input_shape=(224, 224, 3)))\n",
    "model.add(MaxPooling2D())\n",
    "\n",
    "model.add(Conv2D(64, (3, 3), 1, activation='relu'))\n",
    "model.add(MaxPooling2D())\n",
    "\n",
    "model.add(Conv2D(32, (3, 3), 1, activation='relu'))\n",
    "model.add(MaxPooling2D())\n",
    "\n",
    "model.add(Flatten())\n",
    "model.add(Dense(512, activation='relu'))\n",
    "model.add(Dense(output_neurons, activation='softmax'))  # Adjust to the number of classes (8 in this case)\n",
    "\n",
    "# Compile the model\n",
    "model.compile(optimizer='adam', loss='categorical_crossentropy', metrics=['accuracy'])\n",
    "model.summary()\n"
   ]
  },
  {
   "cell_type": "code",
   "execution_count": null,
   "metadata": {},
   "outputs": [],
   "source": [
    "# #Model propvided by chatgpot\n",
    "# # Define the model architecture\n",
    "# model = models.Sequential()\n",
    "\n",
    "# # Convolutional layers\n",
    "# model.add(layers.Conv2D(32, (3, 3), activation='relu', input_shape=(224, 224, 3)))\n",
    "# model.add(layers.MaxPooling2D((2, 2)))\n",
    "\n",
    "# model.add(layers.Conv2D(64, (3, 3), activation='relu'))\n",
    "# model.add(layers.MaxPooling2D((2, 2)))\n",
    "\n",
    "# model.add(layers.Conv2D(128, (3, 3), activation='relu'))\n",
    "# model.add(layers.MaxPooling2D((2, 2)))\n",
    "\n",
    "# # Flatten the output of the convolutional layers\n",
    "# model.add(layers.Flatten())\n",
    "\n",
    "# # Dense layers\n",
    "# model.add(layers.Dense(128, activation='relu'))\n",
    "# model.add(layers.Dense(21, activation='softmax'))  # 21 classes for bird species\n",
    "\n",
    "# # Compile the model\n",
    "# model.compile(optimizer='adam',\n",
    "#               loss='categorical_crossentropy',\n",
    "#               metrics=['accuracy'])\n",
    "\n",
    "# # Display the model summary\n",
    "# model.summary()"
   ]
  },
  {
   "cell_type": "code",
   "execution_count": null,
   "metadata": {},
   "outputs": [],
   "source": [
    "# Define the EarlyStopping callback\n",
    "early_stopping = EarlyStopping(\n",
    "    monitor='val_accuracy',  # Monitor validation accuracy\n",
    "    patience=5,               # Allow 5 epochs with no improvement\n",
    "    verbose=1,                # Print information during training\n",
    "    mode='auto',              # 'auto' automatically determines the direction of improvement\n",
    "    restore_best_weights=True  # Restore model weights from the epoch with the best value of the monitored quantity\n",
    ")"
   ]
  },
  {
   "cell_type": "code",
   "execution_count": null,
   "metadata": {
    "scrolled": true
   },
   "outputs": [],
   "source": [
    "\n",
    "logdir = 'logs'\n",
    "tf.keras.utils.enable_interactive_logging()\n",
    "# Train the model with the updated architecture and callbacks\n",
    "history = model.fit(train_data, epochs=200, validation_data=val_data)\n"
   ]
  },
  {
   "cell_type": "markdown",
   "metadata": {
    "id": "PPVRL5fFjP0U"
   },
   "source": [
    "## **3.2 Test**"
   ]
  },
  {
   "cell_type": "code",
   "execution_count": null,
   "metadata": {},
   "outputs": [],
   "source": [
    "# Evaluate the model on the test set\n",
    "test_loss, test_acc = model.evaluate(test_data)\n",
    "print(f'Test Accuracy: {test_acc * 100:.2f}%')"
   ]
  },
  {
   "cell_type": "code",
   "execution_count": null,
   "metadata": {
    "execution": {
     "iopub.execute_input": "2023-11-27T04:09:00.181741Z",
     "iopub.status.busy": "2023-11-27T04:09:00.181225Z",
     "iopub.status.idle": "2023-11-27T04:09:00.233546Z",
     "shell.execute_reply": "2023-11-27T04:09:00.231844Z",
     "shell.execute_reply.started": "2023-11-27T04:09:00.181698Z"
    },
    "id": "Y7KOYqpGkfBn"
   },
   "outputs": [],
   "source": [
    "import matplotlib.pyplot as plt\n",
    "\n",
    "fig = plt.figure()\n",
    "\n",
    "# Plotting every other single value, excluding the first element\n",
    "plt.plot(history.history['loss'][1::2], color=\"teal\", label='loss')\n",
    "\n",
    "plt.plot(history.history['val_loss'][1::2], color='orange', label='val_loss')\n",
    "fig.suptitle('Loss', fontsize=20)\n",
    "\n",
    "plt.legend(loc=\"upper left\")\n",
    "plt.show()\n"
   ]
  },
  {
   "cell_type": "code",
   "execution_count": null,
   "metadata": {
    "execution": {
     "iopub.execute_input": "2023-11-27T04:00:53.503507Z",
     "iopub.status.busy": "2023-11-27T04:00:53.502750Z",
     "iopub.status.idle": "2023-11-27T04:00:53.777439Z",
     "shell.execute_reply": "2023-11-27T04:00:53.776427Z",
     "shell.execute_reply.started": "2023-11-27T04:00:53.503471Z"
    },
    "scrolled": false
   },
   "outputs": [],
   "source": [
    "import matplotlib.pyplot as plt\n",
    "\n",
    "fig = plt.figure()\n",
    "\n",
    "# Plotting every other single value, excluding the first element\n",
    "plt.plot(history.history['accuracy'], color='teal', label='accuracy')\n",
    "\n",
    "plt.plot(history.history['val_accuracy'], color='orange', label='val_accuracy')\n",
    "fig.suptitle('Accuracy', fontsize=20)\n",
    "\n",
    "plt.legend(loc=\"upper left\")\n",
    "plt.show()\n"
   ]
  },
  {
   "cell_type": "code",
   "execution_count": null,
   "metadata": {},
   "outputs": [],
   "source": []
  },
  {
   "cell_type": "markdown",
   "metadata": {},
   "source": [
    "**evaluate perfomance**"
   ]
  },
  {
   "cell_type": "code",
   "execution_count": 6,
   "metadata": {
    "execution": {
     "iopub.execute_input": "2023-11-27T04:04:34.629189Z",
     "iopub.status.busy": "2023-11-27T04:04:34.628248Z",
     "iopub.status.idle": "2023-11-27T04:04:34.633906Z",
     "shell.execute_reply": "2023-11-27T04:04:34.632756Z",
     "shell.execute_reply.started": "2023-11-27T04:04:34.629155Z"
    }
   },
   "outputs": [],
   "source": [
    "from tensorflow.keras.metrics import Precision, Recall, CategoricalAccuracy"
   ]
  },
  {
   "cell_type": "code",
   "execution_count": 7,
   "metadata": {},
   "outputs": [],
   "source": [
    "tf.keras.utils.disable_interactive_logging()"
   ]
  },
  {
   "cell_type": "code",
   "execution_count": null,
   "metadata": {},
   "outputs": [],
   "source": [
    "\n",
    "# from tensorflow.keras.models import load_model\n",
    "\n",
    "\n",
    "# # Provide the path to your saved model\n",
    "# model_path = 'final_86_15_accuracy_38_classes_very_important.h5'\n",
    "# model = load_model(model_path)\n"
   ]
  },
  {
   "cell_type": "code",
   "execution_count": 27,
   "metadata": {
    "scrolled": true
   },
   "outputs": [
    {
     "name": "stdout",
     "output_type": "stream",
     "text": [
      "Class Name: Abbott’s Babbler Malacocincla abbotti, 0/1\n",
      "Class Name: Black Bittern (Dupetor flavicollis), 1/1\n",
      "Class Name: Blue-eared Kingfisher Alcedo meninting, 1/1\n",
      "Class Name: Blue-naped Pitta Pitta nipalensis, 0/1\n",
      "Class Name: Broad-billed Warbler Tickellia hodgsoni, 1/1\n",
      "Class Name: Cheer Pheasant (Catreus wallichii), 1/1\n",
      "Class Name: Chestnut Munia Lonchura atricapilla, 1/1\n",
      "Class Name: Cinereous Vulture Aegypius monachus, 1/1\n",
      "Class Name: Golden Babbler Stachyris chrysaea, 1/1\n",
      "Class Name: Gould’s Shortwing Brachypteryx stellata, 1/1\n",
      "Class Name: Great Bittern Botaurus stellaris, 0/1\n",
      "Class Name: Great Hornbill (Buceros bicornis), 1/1\n",
      "Class Name: Great Slaty Woodpecker Mulleripicus pulverulentus, 1/1\n",
      "Class Name: Ibisbill Ibidorhyncha struthersii, 1/1\n",
      "Class Name: Indian Courser Cursorius coromandelicus, 1/1\n",
      "Class Name: Indian Grassbird - Graminicola bengalensis, 0/1\n",
      "Class Name: Indian Nightjar Caprimulgus asiaticus, 0/0\n",
      "Class Name: Knob-billed Duck Sarkidiornis melanotos, 1/1\n",
      "Class Name: Northern Pintail Anas acuta, 0/1\n",
      "Class Name: Painted Stork Mycteria leucocephala, 1/1\n",
      "Class Name: Purple Cochoa Cochoa purpurea, 1/1\n",
      "Class Name: Red-headed Trogon Harpactes erythrocephalus, 1/1\n",
      "Class Name: Red-headed Vulture Sarcogyps calvus, 1/1\n",
      "Class Name: Red-necked Falcon Falco chicquera, 0/0\n",
      "Class Name: Ruby-cheeked Sunbird Anthreptes singalensis, 1/1\n",
      "Class Name: Rusty-fronted Barwing Actinodura egertoni, 1/1\n",
      "Class Name: Saker Falcon Falco cherrug, 1/1\n",
      "Class Name: Silver-eared Mesia Leiothrix argentauris, 1/1\n",
      "Class Name: Slaty-legged Crake Rallina eurizonoides, 0/1\n",
      "Class Name: Spot-bellied Eagle Owl Bubo nipalensis, 1/1\n",
      "Class Name: Sultan Tit Melanochlora sultanea, 1/1\n",
      "Class Name: Swamp Francolin Francolinus gularis, 1/1\n",
      "Class Name: Tawny-bellied Babbler Dumetia hyperythra, 0/1\n",
      "Class Name: Thick-billed Green Pigeon Treron curvirostra, 1/1\n",
      "Class Name: White-throated Bulbul Alophoixus flaveolus, 1/1\n",
      "Class Name: White-throated Bushchat Saxicola insignis, 0/0\n",
      "Class Name: Yellow-rumped Honeyguide - Indicator xanthonotus, 0/0\n",
      "Class Name: Yellow-vented Warbler Phylloscopus cantator, 1/1\n",
      "\n",
      "Average Accuracy: 79.41%\n"
     ]
    }
   ],
   "source": [
    "import os\n",
    "import tensorflow as tf\n",
    "from tensorflow.keras.preprocessing import image\n",
    "import numpy as np\n",
    "import logging\n",
    "\n",
    "# Suppress TensorFlow verbose output\n",
    "os.environ['TF_CPP_MIN_LOG_LEVEL'] = '3'\n",
    "\n",
    "# Suppress other log outputs\n",
    "logging.getLogger('tensorflow').setLevel(logging.ERROR)\n",
    "\n",
    "# Assuming 'model' and 'class_labels' are already defined\n",
    "\n",
    "# Directory path where the test images are stored\n",
    "test_folder_path = 'data/test'\n",
    "\n",
    "# Initialize a dictionary to store correct predictions count for each class\n",
    "correct_predictions_count = {label: 0 for label in class_labels}\n",
    "total_images_count = 0\n",
    "\n",
    "def process_image(img_path):\n",
    "    img = image.load_img(img_path, target_size=(224, 224))  # Adjust target_size based on your model's input size\n",
    "    img_array = image.img_to_array(img)\n",
    "    img_array = np.expand_dims(img_array, axis=0)  # Add batch dimension\n",
    "    img_array = img_array / 255.0  # Normalize pixel values\n",
    "    return img_array\n",
    "\n",
    "# Loop through each file and subdirectory in the directory\n",
    "for item in sorted(os.listdir(test_folder_path), key=lambda x: x.lower()):\n",
    "    item_path = os.path.join(test_folder_path, item)\n",
    "\n",
    "    if os.path.isdir(item_path):\n",
    "        # Handle subdirectories (if any)\n",
    "        correct_predictions = 0\n",
    "        total_images = 0\n",
    "\n",
    "        # Move actual_label initialization inside the loop\n",
    "        actual_label = item\n",
    "\n",
    "        for filename in sorted(os.listdir(item_path), key=lambda x: x.lower()):\n",
    "            if filename.endswith((\".jpg\", \".png\")):\n",
    "                img_path = os.path.join(item_path, filename)\n",
    "                img_array = process_image(img_path)\n",
    "\n",
    "                # Make predictions\n",
    "                predictions = model.predict(img_array)\n",
    "\n",
    "                # Get the predicted class label\n",
    "                predicted_class = np.argmax(predictions)\n",
    "                predicted_label = class_labels[predicted_class]\n",
    "\n",
    "                # Check if the prediction is correct\n",
    "                if predicted_label == actual_label:\n",
    "                    correct_predictions += 1\n",
    "\n",
    "                total_images += 1\n",
    "\n",
    "        # Update the overall counts\n",
    "        correct_predictions_count[actual_label] += correct_predictions\n",
    "        total_images_count += total_images\n",
    "\n",
    "        # Print the results for each class\n",
    "        print(f'Class Name: {actual_label}, {correct_predictions}/{total_images}')\n",
    "\n",
    "# Calculate and print the average accuracy\n",
    "average_accuracy = sum(correct_predictions_count.values()) / total_images_count\n",
    "print(f'\\nAverage Accuracy: {average_accuracy:.2%}')\n",
    "\n",
    "\n",
    "\n",
    "\n"
   ]
  },
  {
   "cell_type": "code",
   "execution_count": 24,
   "metadata": {},
   "outputs": [
    {
     "data": {
      "text/plain": [
       "['Great Slaty Woodpecker Mulleripicus pulverulentus',\n",
       " 'Abbott’s Babbler Malacocincla abbotti',\n",
       " 'Black Bittern (Dupetor flavicollis)',\n",
       " 'Blue-eared Kingfisher Alcedo meninting',\n",
       " 'Blue-naped Pitta Pitta nipalensis',\n",
       " 'Broad-billed Warbler Tickellia hodgsoni',\n",
       " 'Cheer Pheasant (Catreus wallichii)',\n",
       " 'Chestnut Munia Lonchura atricapilla',\n",
       " 'Cinereous Vulture Aegypius monachus',\n",
       " 'Golden Babbler Stachyris chrysaea',\n",
       " 'Gould’s Shortwing Brachypteryx stellata',\n",
       " 'Great Bittern Botaurus stellaris',\n",
       " 'Great Hornbill (Buceros bicornis)',\n",
       " 'Ibisbill Ibidorhyncha struthersii',\n",
       " 'Indian Courser Cursorius coromandelicus',\n",
       " 'Indian Grassbird - Graminicola bengalensis',\n",
       " 'Indian Nightjar Caprimulgus asiaticus',\n",
       " 'Knob-billed Duck Sarkidiornis melanotos',\n",
       " 'Northern Pintail Anas acuta',\n",
       " 'Painted Stork Mycteria leucocephala',\n",
       " 'Purple Cochoa Cochoa purpurea',\n",
       " 'Red-headed Trogon Harpactes erythrocephalus',\n",
       " 'Red-headed Vulture Sarcogyps calvus',\n",
       " 'Red-necked Falcon Falco chicquera',\n",
       " 'Ruby-cheeked Sunbird Anthreptes singalensis',\n",
       " 'Rusty-fronted Barwing Actinodura egertoni',\n",
       " 'Saker Falcon Falco cherrug',\n",
       " 'Silver-eared Mesia Leiothrix argentauris',\n",
       " 'Slaty-legged Crake Rallina eurizonoides',\n",
       " 'Spot-bellied Eagle Owl Bubo nipalensis',\n",
       " 'Sultan Tit Melanochlora sultanea',\n",
       " 'Swamp Francolin Francolinus gularis',\n",
       " 'Tawny-bellied Babbler Dumetia hyperythra',\n",
       " 'Thick-billed Green Pigeon Treron curvirostra',\n",
       " 'White-throated Bulbul Alophoixus flaveolus',\n",
       " 'White-throated Bushchat Saxicola insignis',\n",
       " 'Yellow-rumped Honeyguide - Indicator xanthonotus',\n",
       " 'Yellow-vented Warbler Phylloscopus cantator']"
      ]
     },
     "execution_count": 24,
     "metadata": {},
     "output_type": "execute_result"
    }
   ],
   "source": [
    "os.listdir('data/test')"
   ]
  },
  {
   "cell_type": "code",
   "execution_count": 10,
   "metadata": {
    "scrolled": true
   },
   "outputs": [
    {
     "name": "stdout",
     "output_type": "stream",
     "text": [
      "Class Name: Great Slaty Woodpecker Mulleripicus pulverulentus, 1/1\n",
      "Class Name: Abbott’s Babbler Malacocincla abbotti, 0/1\n",
      "Class Name: Black Bittern (Dupetor flavicollis), 1/1\n",
      "Class Name: Blue-eared Kingfisher Alcedo meninting, 1/1\n",
      "Class Name: Blue-naped Pitta Pitta nipalensis, 0/1\n",
      "Class Name: Broad-billed Warbler Tickellia hodgsoni, 1/1\n",
      "Class Name: Cheer Pheasant (Catreus wallichii), 1/1\n",
      "Class Name: Chestnut Munia Lonchura atricapilla, 1/1\n",
      "Class Name: Cinereous Vulture Aegypius monachus, 1/1\n",
      "Class Name: Golden Babbler Stachyris chrysaea, 1/1\n",
      "Class Name: Gould’s Shortwing Brachypteryx stellata, 1/1\n",
      "Class Name: Great Bittern Botaurus stellaris, 0/1\n",
      "Class Name: Great Hornbill (Buceros bicornis), 1/1\n",
      "Class Name: Ibisbill Ibidorhyncha struthersii, 1/1\n",
      "Class Name: Indian Courser Cursorius coromandelicus, 1/1\n",
      "Class Name: Indian Grassbird - Graminicola bengalensis, 0/1\n",
      "Class Name: Indian Grassbird - Graminicola bengalensis, 0/0\n",
      "Class Name: Knob-billed Duck Sarkidiornis melanotos, 1/1\n",
      "Class Name: Northern Pintail Anas acuta, 0/1\n",
      "Class Name: Painted Stork Mycteria leucocephala, 1/1\n",
      "Class Name: Purple Cochoa Cochoa purpurea, 1/1\n",
      "Class Name: Red-headed Trogon Harpactes erythrocephalus, 1/1\n",
      "Class Name: Red-headed Vulture Sarcogyps calvus, 1/1\n",
      "Class Name: Red-headed Vulture Sarcogyps calvus, 0/0\n",
      "Class Name: Ruby-cheeked Sunbird Anthreptes singalensis, 1/1\n",
      "Class Name: Rusty-fronted Barwing Actinodura egertoni, 1/1\n",
      "Class Name: Saker Falcon Falco cherrug, 1/1\n",
      "Class Name: Silver-eared Mesia Leiothrix argentauris, 1/1\n",
      "Class Name: Slaty-legged Crake Rallina eurizonoides, 0/1\n",
      "Class Name: Spot-bellied Eagle Owl Bubo nipalensis, 1/1\n",
      "Class Name: Sultan Tit Melanochlora sultanea, 1/1\n",
      "Class Name: Swamp Francolin Francolinus gularis, 1/1\n",
      "Class Name: Tawny-bellied Babbler Dumetia hyperythra, 0/1\n",
      "Class Name: Thick-billed Green Pigeon Treron curvirostra, 1/1\n",
      "Class Name: White-throated Bulbul Alophoixus flaveolus, 1/1\n",
      "Class Name: White-throated Bulbul Alophoixus flaveolus, 0/0\n",
      "Class Name: White-throated Bulbul Alophoixus flaveolus, 0/0\n",
      "Class Name: Yellow-vented Warbler Phylloscopus cantator, 1/1\n",
      "\n",
      "Average Accuracy: 79.41%\n"
     ]
    }
   ],
   "source": [
    "# #Very important donot delete\n",
    "# # import os\n",
    "# import tensorflow as tf\n",
    "# from tensorflow.keras.preprocessing import image\n",
    "# import numpy as np\n",
    "# import logging\n",
    "\n",
    "# # Suppress TensorFlow verbose output\n",
    "# os.environ['TF_CPP_MIN_LOG_LEVEL'] = '3'\n",
    "\n",
    "# # Suppress other log outputs\n",
    "# logging.getLogger('tensorflow').setLevel(logging.ERROR)\n",
    "\n",
    "# # Assuming 'model' and 'class_labels' are already defined\n",
    "\n",
    "# # Directory path where the test images are stored\n",
    "# test_folder_path = 'data/test'\n",
    "\n",
    "# # Initialize a dictionary to store correct predictions count for each class\n",
    "# correct_predictions_count = {label: 0 for label in class_labels}\n",
    "# total_images_count = 0\n",
    "\n",
    "# def process_image(img_path):\n",
    "#     img = image.load_img(img_path, target_size=(224, 224))  # Adjust target_size based on your model's input size\n",
    "#     img_array = image.img_to_array(img)\n",
    "#     img_array = np.expand_dims(img_array, axis=0)  # Add batch dimension\n",
    "#     img_array = img_array / 255.0  # Normalize pixel values\n",
    "#     return img_array\n",
    "\n",
    "# # Loop through each file and subdirectory in the directory\n",
    "# for item in os.listdir(test_folder_path):\n",
    "#     item_path = os.path.join(test_folder_path, item)\n",
    "\n",
    "#     if os.path.isdir(item_path):\n",
    "#         # Handle subdirectories (if any)\n",
    "#         correct_predictions = 0\n",
    "#         total_images = 0\n",
    "\n",
    "#         for filename in os.listdir(item_path):\n",
    "#             if filename.endswith((\".jpg\", \".png\")):\n",
    "#                 img_path = os.path.join(item_path, filename)\n",
    "#                 img_array = process_image(img_path)\n",
    "\n",
    "#                 # Make predictions\n",
    "#                 predictions = model.predict(img_array)\n",
    "\n",
    "#                 # Get the predicted class label\n",
    "#                 predicted_class = np.argmax(predictions)\n",
    "#                 predicted_label = class_labels[predicted_class]\n",
    "\n",
    "#                 # Check if the prediction is correct\n",
    "#                 actual_label = item  # Assuming the folder name is the actual class label\n",
    "#                 if predicted_label == actual_label:\n",
    "#                     correct_predictions += 1\n",
    "\n",
    "#                 total_images += 1\n",
    "\n",
    "#         # Update the overall counts\n",
    "#         correct_predictions_count[actual_label] += correct_predictions\n",
    "#         total_images_count += total_images\n",
    "\n",
    "#         # Print the results for each class\n",
    "#         print(f'Class Name: {actual_label}, {correct_predictions}/{total_images}')\n",
    "\n",
    "# # Calculate and print the average accuracy\n",
    "# average_accuracy = sum(correct_predictions_count.values()) / total_images_count\n",
    "# print(f'\\nAverage Accuracy: {average_accuracy:.2%}')\n"
   ]
  },
  {
   "cell_type": "code",
   "execution_count": null,
   "metadata": {},
   "outputs": [],
   "source": [
    "tf.keras.utils.enable_interactive_logging()"
   ]
  },
  {
   "cell_type": "code",
   "execution_count": null,
   "metadata": {},
   "outputs": [],
   "source": []
  },
  {
   "cell_type": "code",
   "execution_count": null,
   "metadata": {},
   "outputs": [],
   "source": [
    "# model.save(\"final_86_15_accuracy_38_classes_very_important.h5\")"
   ]
  },
  {
   "cell_type": "code",
   "execution_count": 8,
   "metadata": {},
   "outputs": [],
   "source": [
    "#Loading and testing the model\n",
    "\n",
    "from tensorflow.keras.models import load_model\n",
    "\n",
    "\n",
    "# # Provide the path to your saved model\n",
    "model_path = 'abhishek_model_88_15_accuracy.h5'\n",
    "model = load_model(model_path)"
   ]
  },
  {
   "cell_type": "code",
   "execution_count": 23,
   "metadata": {},
   "outputs": [
    {
     "name": "stdout",
     "output_type": "stream",
     "text": [
      "Predicted Class Label: Abbott’s Babbler Malacocincla abbotti\n"
     ]
    }
   ],
   "source": [
    "# Import necessary libraries and load your model\n",
    "import tensorflow as tf\n",
    "from PIL import Image\n",
    "import numpy as np\n",
    "\n",
    "\n",
    "# Load and preprocess the image\n",
    "image_path = 'image.png'\n",
    "img = Image.open(image_path)\n",
    "img = img.resize((224, 224))  # Adjust the size based on your model's input size\n",
    "img_array = np.array(img) / 255.0  # Normalize pixel values to be between 0 and 1\n",
    "img_array = np.expand_dims(img_array, axis=0)  # Add batch dimension\n",
    "\n",
    "# Make predictions\n",
    "predictions = model.predict(img_array)\n",
    "\n",
    "# Assuming predictions is a one-hot encoded array, find the predicted class index\n",
    "predicted_class_index = np.argmax(predictions)\n",
    "\n",
    "# Print the predicted class label (replace 'class_labels' with your actual class labels)\n",
    "predicted_class_label = class_labels[predicted_class_index]\n",
    "print(\"Predicted Class Label:\", predicted_class_label)\n"
   ]
  },
  {
   "cell_type": "code",
   "execution_count": null,
   "metadata": {},
   "outputs": [],
   "source": [
    "+-------------------------------------------------------------------------------------# model.save(\"19mildrop0_2.h5\")"
   ]
  },
  {
   "cell_type": "code",
   "execution_count": null,
   "metadata": {},
   "outputs": [],
   "source": []
  }
 ],
 "metadata": {
  "accelerator": "GPU",
  "colab": {
   "gpuType": "T4",
   "provenance": []
  },
  "kaggle": {
   "accelerator": "none",
   "dataSources": [
    {
     "datasetId": 4063121,
     "sourceId": 7058354,
     "sourceType": "datasetVersion"
    },
    {
     "datasetId": 4063665,
     "sourceId": 7059065,
     "sourceType": "datasetVersion"
    },
    {
     "datasetId": 4065432,
     "sourceId": 7061668,
     "sourceType": "datasetVersion"
    }
   ],
   "dockerImageVersionId": 30588,
   "isGpuEnabled": false,
   "isInternetEnabled": true,
   "language": "python",
   "sourceType": "notebook"
  },
  "kernelspec": {
   "display_name": "Python 3.8 (tensorflow-gpu)",
   "language": "python",
   "name": "tensorflow-gpu"
  },
  "language_info": {
   "codemirror_mode": {
    "name": "ipython",
    "version": 3
   },
   "file_extension": ".py",
   "mimetype": "text/x-python",
   "name": "python",
   "nbconvert_exporter": "python",
   "pygments_lexer": "ipython3",
   "version": "3.8.18"
  }
 },
 "nbformat": 4,
 "nbformat_minor": 4
}
